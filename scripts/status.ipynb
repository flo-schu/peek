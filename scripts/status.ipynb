{
 "cells": [
  {
   "cell_type": "markdown",
   "metadata": {},
   "source": [
    "## Evaluate the current status of the nanocosms"
   ]
  },
  {
   "cell_type": "markdown",
   "metadata": {},
   "source": [
    "all data are imported and summarized then a panel with all trajectories is created."
   ]
  },
  {
   "cell_type": "code",
   "execution_count": null,
   "metadata": {},
   "outputs": [],
   "source": [
    "import os; os.chdir(\"..\")  # change into root of working directory\n",
    "import sys; sys.path.append(\"src\")  # add src to system path and allow packages to be found\n",
    "import pandas as pd\n",
    "import itertools as it\n",
    "import numpy as np\n",
    "from matplotlib import pyplot as plt\n",
    "import evaluation.calc as calc\n",
    "from image.analysis import Data"
   ]
  },
  {
   "cell_type": "code",
   "execution_count": null,
   "metadata": {},
   "outputs": [],
   "source": [
    "data = Data.combine_data_classic(\n",
    "    datapath=\"data/\",\n",
    "    interpolation_cfg={\"method\":\"pad\", \"limit\":1, \"limit_direction\":\"forward\"})\n",
    "data.fillna(0, inplace=True)"
   ]
  },
  {
   "cell_type": "code",
   "execution_count": null,
   "metadata": {},
   "outputs": [],
   "source": [
    "data\n",
    "# did you remove the hastags in front of new folders"
   ]
  },
  {
   "cell_type": "markdown",
   "metadata": {},
   "source": [
    "The next steps boil the data down"
   ]
  },
  {
   "cell_type": "code",
   "execution_count": null,
   "metadata": {},
   "outputs": [],
   "source": [
    "# get count of organisms for each picture and each analysis\n",
    "groups = [\"id\",\"picture\", \"species\", \"analysis\",\"culex_larvae\", \"culex_small\",\n",
    "          \"culex_adults\", \"culex_pupae\", \"culex_repro\", \"sediment\"]\n",
    "d = calc.aggregate(\n",
    "    data, \n",
    "    aggregations={\"hash\":\"size\", \"value\":\"mean\"}, \n",
    "    names=[\"count\", \"mean_size\"],\n",
    "    freq=\"S\", groups=groups)\n",
    "\n",
    "# get sum of analyses for each picture and species\n",
    "groups = [g for g in groups if g != \"analysis\"] # remove picture from group list\n",
    "d = calc.aggregate(\n",
    "    d, {\"count\":\"sum\", \"mean_size\": \"mean\"}, names=[],\n",
    "    freq=\"S\", groups=groups )\n",
    "\n",
    "# get sum of analyses for each picture and species\n",
    "groups = [g for g in groups if g != \"picture\"] # remove picture from group list\n",
    "d = calc.aggregate(\n",
    "    d, {\"count\":\"max\", \"mean_size\": \"mean\"}, names=[\"count\"],\n",
    "    freq=\"D\", groups=groups )\n",
    "\n",
    "d"
   ]
  },
  {
   "source": [
    "plot panels with trajectories of culex. Dates, where larvae counts of the image detection are exchanged with manual larvae counts have to be manually specified."
   ],
   "cell_type": "markdown",
   "metadata": {}
  },
  {
   "cell_type": "code",
   "execution_count": null,
   "metadata": {},
   "outputs": [],
   "source": [
    "pdat = d.reset_index().query(\"species == 'Culex'\").query(\"time == '2021-04-09' | time == '2021-04-16' | time == '2021-04-23' | time == '2021-04-30' | time == '2021-05-07' | time == '2021-05-14'\")\n",
    "pdat[\"larvae\"] = pdat[\"culex_larvae\"] + pdat[\"culex_small\"]\n",
    "pdat[\"culex\"] = pdat[\"larvae\"] + pdat[\"culex_adults\"] + pdat[\"culex_pupae\"]\n",
    "pdat.rename(columns={\"culex_adults\":\"adults\", \"culex_pupae\":\"pupae\"}, inplace=True)\n",
    "\n",
    "fig, axes = plt.subplots(figsize=(18,12), ncols=10, nrows=8, sharex=True)\n",
    "axes = axes.flatten()\n",
    "for ax, i in zip(axes, np.arange(1, 81)):\n",
    "    dd = pdat.query(\"id == @i\")\n",
    "    spcs = dd[\"species\"].unique()\n",
    "    for s in spcs:\n",
    "        ddd = dd.query(\"species == @s\").reset_index()\n",
    "        l, = ax.plot(ddd[\"time\"], ddd[\"culex\"], label=\"total\", color=\"gray\")\n",
    "        l = ax.fill_between(ddd[\"time\"], [0], ddd[\"larvae\"], \n",
    "                            alpha=.8, label=\"larvae\")\n",
    "        l = ax.fill_between(ddd[\"time\"], ddd[\"larvae\"], ddd[\"larvae\"] + ddd[\"pupae\"], \n",
    "                            alpha=.8, label=\"pupae\")\n",
    "        l = ax.fill_between(ddd[\"time\"], ddd[\"larvae\"] + ddd[\"pupae\"], ddd[\"larvae\"] + ddd[\"pupae\"] + ddd[\"adults\"],\n",
    "                            alpha=.8, label=\"adults\")\n",
    "        ax.axhline(5, 0 , 100, linestyle=\"--\", color=\"gray\", linewidth=.5)\n",
    "        ax.set_ylim(0,30)\n",
    "        ax.set_xticks([])\n",
    "        ax.set_yticks([])\n",
    "        ax.text(0.1, 0.8, str(i), horizontalalignment='center', verticalalignment='center', transform=ax.transAxes)        # ax.set_ylabel(\"Abundance\")\n",
    "        \n",
    "        # color panels conditional on status\n",
    "        if any(ddd.culex_repro) == True:\n",
    "            plt.setp(ax.spines.values(), color=\"green\")\n",
    "            plt.setp(ax.texts, color=\"green\")\n",
    "        elif ddd.culex.to_numpy()[-1] < 5:\n",
    "            plt.setp(ax.spines.values(), color=\"red\")\n",
    "            plt.setp(ax.texts, color=\"red\")\n",
    "\n",
    "\n",
    "fig.subplots_adjust(bottom=0.08, wspace=0.05, hspace=0.05, top=.95, right=0.95, left=0.05)\n",
    "\n",
    "handles = [axes[2].lines[0]] + axes[2].collections\n",
    "\n",
    "axes[79].legend(handles = handles, labels=[\"total\", \"larvae\", \"pupae\", \"adults\"], loc='upper right', \n",
    "                bbox_to_anchor=(1, -0.05),fancybox=False, shadow=False, ncol=4)\n",
    "axes[75].set_xlabel(\"time                         \")\n",
    "axes[40].set_ylabel(\"            Abundance of organisms in relation to threshold of critical size (N=5)\")\n",
    " \n",
    "plt.savefig(\"plots/status_culex.jpeg\")\n",
    "plt.show()\n"
   ]
  },
  {
   "cell_type": "code",
   "execution_count": null,
   "metadata": {},
   "outputs": [],
   "source": []
  }
 ],
 "metadata": {
  "kernelspec": {
   "display_name": "nanocosm",
   "language": "python",
   "name": "nanocosm"
  },
  "language_info": {
   "codemirror_mode": {
    "name": "ipython",
    "version": 3
   },
   "file_extension": ".py",
   "mimetype": "text/x-python",
   "name": "python",
   "nbconvert_exporter": "python",
   "pygments_lexer": "ipython3",
   "version": "3.6.8"
  },
  "metadata": {
   "interpreter": {
    "hash": "bc23c3071d86ab255ae03217699bf88dbd902aee5f1c8f018970b6e03fcab039"
   }
  }
 },
 "nbformat": 4,
 "nbformat_minor": 4
}